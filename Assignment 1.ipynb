{
  "cells": [
    {
      "cell_type": "markdown",
      "metadata": {},
      "source": [
        "## 1. Import Libraries"
      ],
      "id": "3fb3332f-af7d-422b-9e7b-090d57c5dc31"
    },
    {
      "cell_type": "code",
      "metadata": {},
      "source": [
        "import os\n",
        "import sys\n",
        "import torch\n",
        "import zipfile\n",
        "import numpy as np # number python\n",
        "from torch import nn # neural network (Conv2D - 2D Convolution Layer, Linear, Logistic)\n",
        "from torch.nn import functional as F # activation function (ReLU, Sigmoid, SoftMax)\n",
        "import torch.utils.data as td # tools to create & load dataset\n",
        "import torchvision as tv # torchvision library for computer vision tasks\n",
        "import pandas as pd # library for data analysis, manipulation -> data augmentation\n",
        "from PIL import Image # library used for image handling\n",
        "from matplotlib import pyplot as plt # plotting library to plot & visualize results"
      ],
      "execution_count": 32,
      "outputs": [],
      "id": "8b2fd141-0ab5-4581-b41d-1da1b5ad24a2"
    },
    {
      "cell_type": "code",
      "metadata": {},
      "source": [
        "print(f'PyTorch Version: {torch.__version__}')\n",
        "\n",
        "device = 'cuda' if torch.cuda.is_available() else 'cpu'\n",
        "\n",
        "print(device)\n",
        "print(torch.cuda.get_device_name())\n",
        "\n",
        "try: \n",
        "    print(f'CUDA Version: {torch.version.cuda}')\n",
        "except:\n",
        "    pass"
      ],
      "execution_count": 38,
      "outputs": [
        {
          "name": "stdout",
          "output_type": "stream",
          "text": [
            "PyTorch Version: 2.5.1+cu121\n",
            "cuda\n",
            "NVIDIA GeForce RTX 4070 Laptop GPU\n",
            "CUDA Version: 12.1\n"
          ]
        }
      ],
      "id": "c0f2466f-7700-41cb-ae34-b108a63872d5"
    },
    {
      "cell_type": "markdown",
      "metadata": {},
      "source": [
        "## 2. Loading & Processing Dataset"
      ],
      "id": "e9fc9e87-5232-4468-9076-d982218664e5"
    },
    {
      "cell_type": "markdown",
      "metadata": {},
      "source": [
        "### Dataset Location"
      ],
      "id": "6d476e13-6b57-4c4a-b081-824ca6dae601"
    },
    {
      "cell_type": "code",
      "metadata": {},
      "source": [
        "dataset_root_dir = 'E:/Year 3 Sem 1/COS30082 Applied Machine Learning/Assignment 1/'"
      ],
      "execution_count": 31,
      "outputs": [],
      "id": "7fb78bfe-a3a3-4db7-aca7-1b784cce8b63"
    },
    {
      "cell_type": "markdown",
      "metadata": {},
      "source": [
        "### Data Processing "
      ],
      "id": "e322a4f8-4f71-459c-bc0c-93a73b5ba2f7"
    },
    {
      "cell_type": "code",
      "metadata": {},
      "source": [
        "class BirdDataset(td.Dataset):  # td.Dataset is a class from td (torch.utils.data)\n",
        "\n",
        "    # Constructor [Param: root file, train/val/test mode, image size, split ratio]\n",
        "    # Custom Dataset uses different Constructor [Param up to dev]\n",
        "    def __init__(\n",
        "        self,\n",
        "        root_dir,\n",
        "        mode: str = \"train\",\n",
        "        image_size=(224, 224),\n",
        "        val_ratio: float = 0.2,\n",
        "        split_seed: int = 42,\n",
        "    ):\n",
        "        super().__init__()  # Ensure proper inheritance\n",
        "        self.image_size = image_size\n",
        "        self.mode = mode\n",
        "        self.val_ratio = val_ratio\n",
        "        self.split_seed = split_seed\n",
        "\n",
        "        # For train/val, always load from train.txt then split deterministically by seed\n",
        "        if mode in (\"train\", \"val\"):\n",
        "            txt_path = os.path.join(root_dir, \"train.txt\")\n",
        "            print(\"Text File:\", txt_path)\n",
        "\n",
        "            full_df = pd.read_csv(\n",
        "                txt_path,\n",
        "                header=None,  # no header in the file\n",
        "                sep=\" \",\n",
        "                names=[\"file_path\", \"class\"],\n",
        "            )\n",
        "\n",
        "            if not (0.0 <= val_ratio < 1.0):\n",
        "                raise ValueError(\"val_ratio must be in [0.0, 1.0)\")\n",
        "\n",
        "            num_samples = len(full_df)\n",
        "            if num_samples == 0 or val_ratio == 0.0:\n",
        "                # No split needed (all samples go to train; val will be empty)\n",
        "                train_indices = np.arange(num_samples)\n",
        "                val_indices = np.array([], dtype=int)\n",
        "            else:\n",
        "                rng = np.random.RandomState(split_seed)\n",
        "                permuted_indices = rng.permutation(num_samples)\n",
        "                train_cutoff = int(round((1.0 - val_ratio) * num_samples))\n",
        "                train_indices = permuted_indices[:train_cutoff]\n",
        "                val_indices = permuted_indices[train_cutoff:]\n",
        "\n",
        "            if mode == \"train\":\n",
        "                self.data = full_df.iloc[train_indices].reset_index(drop=True)\n",
        "            else:  # mode == \"val\"\n",
        "                self.data = full_df.iloc[val_indices].reset_index(drop=True)\n",
        "\n",
        "            # Images live under Train for both train and val splits\n",
        "            self.images_dir = os.path.join(root_dir, \"Train\")\n",
        "        else:\n",
        "            # For other modes (e.g., \"test\"), fall back to <mode>.txt convention\n",
        "            txt_path = os.path.join(root_dir, f\"{mode}.txt\")\n",
        "            print(\"Text File:\", txt_path)\n",
        "\n",
        "            self.data = pd.read_csv(\n",
        "                txt_path,\n",
        "                header=None,\n",
        "                sep=\" \",\n",
        "                names=[\"file_path\", \"class\"],\n",
        "            )\n",
        "\n",
        "            # Heuristic: use Test folder for test mode, Train otherwise\n",
        "            self.images_dir = (\n",
        "                os.path.join(root_dir, \"Test\") if mode == \"test\" else os.path.join(root_dir, \"Train\")\n",
        "            )\n",
        "\n",
        "    # Return No. of Data Images\n",
        "    def __len__(self):  # __len__ is used by built-in len()\n",
        "        print(\"Dataset Length:\", len(self.data))\n",
        "        return len(self.data)\n",
        "\n",
        "    # Return Init Configuration\n",
        "    def __repr__(self):\n",
        "        return \"BirdDataset: (mode='{}', image_size={}, val_ratio={}, seed={})\".format(\n",
        "            self.mode, self.image_size, self.val_ratio, self.split_seed\n",
        "        )\n",
        "\n",
        "    # Preparing the Images\n",
        "    def __getitem__(self, idx):\n",
        "        # Build image path from split's dataframe\n",
        "        img_path = os.path.join(self.images_dir, self.data.iloc[idx][\"file_path\"])\n",
        "\n",
        "        # Load Image\n",
        "        img = Image.open(img_path)\n",
        "\n",
        "        # Transformation\n",
        "        transform = tv.transforms.Compose(\n",
        "            [\n",
        "                # Resize the Image\n",
        "                tv.transforms.Resize(self.image_size),\n",
        "                # Convert it to Tensor\n",
        "                tv.transforms.ToTensor(),\n",
        "                # Normalize to standard range (-1, 1)\n",
        "                tv.transforms.Normalize((0.5, 0.5, 0.5), (0.5, 0.5, 0.5)),\n",
        "            ]\n",
        "        )\n",
        "\n",
        "        # Processed Image\n",
        "        x = transform(img)\n",
        "\n",
        "        # Get Class Label\n",
        "        d = self.data.iloc[idx][\"class\"]\n",
        "\n",
        "        return x, d\n",
        "\n",
        "    def number_of_classes(self):\n",
        "        # Assumes classes are labeled from 0..C-1\n",
        "        return self.data[\"class\"].max() + 1\n",
        "    # Max + 1 because the index starts from 0.\n",
        "        "
      ],
      "execution_count": null,
      "outputs": [],
      "id": "7b6bcb95-556b-4022-b264-884fc37b68d7"
    },
    {
      "cell_type": "markdown",
      "metadata": {},
      "source": [
        "### View Modified Dataset"
      ],
      "id": "47b84e67-9dc6-4050-a435-ec55aded1880"
    },
    {
      "cell_type": "code",
      "metadata": {},
      "source": [],
      "execution_count": null,
      "outputs": [],
      "id": "2241f672-4ce8-4a57-99c3-7cec893bac56"
    }
  ],
  "metadata": {
    "kernelspec": {
      "display_name": "Python 3 (ipykernel)",
      "language": "python",
      "name": "python3"
    },
    "language_info": {
      "codemirror_mode": {
        "name": "ipython",
        "version": 3
      },
      "file_extension": ".py",
      "mimetype": "text/x-python",
      "name": "python",
      "nbconvert_exporter": "python",
      "pygments_lexer": "ipython3",
      "version": "3.10.0"
    }
  },
  "nbformat": 4,
  "nbformat_minor": 5
}