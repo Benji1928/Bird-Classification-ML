{
 "cells": [
  {
   "cell_type": "markdown",
   "id": "3fb3332f-af7d-422b-9e7b-090d57c5dc31",
   "metadata": {},
   "source": [
    "## 1. Import Libraries"
   ]
  },
  {
   "cell_type": "code",
   "execution_count": 32,
   "id": "8b2fd141-0ab5-4581-b41d-1da1b5ad24a2",
   "metadata": {},
   "outputs": [],
   "source": [
    "import os\n",
    "import sys\n",
    "import torch\n",
    "import zipfile\n",
    "import numpy as np # number python\n",
    "from torch import nn # neural network (Conv2D - 2D Convolution Layer, Linear, Logistic)\n",
    "from torch.nn import functional as F # activation function (ReLU, Sigmoid, SoftMax)\n",
    "import torch.utils.data as td # tools to create & load dataset\n",
    "import torchvision as tv # torchvision library for computer vision tasks\n",
    "import pandas as pd # library for data analysis, manipulation -> data augmentation\n",
    "from PIL import Image # library used for image handling\n",
    "from matplotlib import pyplot as plt # plotting library to plot & visualize results"
   ]
  },
  {
   "cell_type": "code",
   "execution_count": 38,
   "id": "c0f2466f-7700-41cb-ae34-b108a63872d5",
   "metadata": {},
   "outputs": [
    {
     "name": "stdout",
     "output_type": "stream",
     "text": [
      "PyTorch Version: 2.5.1+cu121\n",
      "cuda\n",
      "NVIDIA GeForce RTX 4070 Laptop GPU\n",
      "CUDA Version: 12.1\n"
     ]
    }
   ],
   "source": [
    "print(f'PyTorch Version: {torch.__version__}')\n",
    "\n",
    "device = 'cuda' if torch.cuda.is_available() else 'cpu'\n",
    "\n",
    "print(device)\n",
    "print(torch.cuda.get_device_name())\n",
    "\n",
    "try: \n",
    "    print(f'CUDA Version: {torch.version.cuda}')\n",
    "except:\n",
    "    pass"
   ]
  },
  {
   "cell_type": "markdown",
   "id": "e9fc9e87-5232-4468-9076-d982218664e5",
   "metadata": {},
   "source": [
    "## 2. Loading & Processing Dataset"
   ]
  },
  {
   "cell_type": "markdown",
   "id": "6d476e13-6b57-4c4a-b081-824ca6dae601",
   "metadata": {},
   "source": [
    "### Dataset Location"
   ]
  },
  {
   "cell_type": "code",
   "execution_count": 31,
   "id": "7fb78bfe-a3a3-4db7-aca7-1b784cce8b63",
   "metadata": {},
   "outputs": [],
   "source": [
    "dataset_root_dir = 'E:/Year 3 Sem 1/COS30082 Applied Machine Learning/Assignment 1/'"
   ]
  },
  {
   "cell_type": "markdown",
   "id": "e322a4f8-4f71-459c-bc0c-93a73b5ba2f7",
   "metadata": {},
   "source": [
    "### Data Processing "
   ]
  },
  {
   "cell_type": "code",
   "execution_count": null,
   "id": "7b6bcb95-556b-4022-b264-884fc37b68d7",
   "metadata": {},
   "outputs": [],
   "source": [
    "class BirdDataset(td.Dataset): #td.Dataset is a class from td (torch.utils.data)\n",
    "\n",
    "    # Constructor [Param: root file, train (training or testing dataset), download (online? if local x exist), target & label transform]\n",
    "\n",
    "    # Custom Dataset uses different Constructor [Param up to dev]\n",
    "    def __init__(self, root_dir, mode=\"train\", image_size=(224,224) ):\n",
    "        super().__init__() # Call Parent __init__ function, ensure proper inheritance. (Newed Python)\n",
    "        self.image_size = image_size # Create new variable to store current self image_size \n",
    "        self.mode = mode\n",
    "\n",
    "        # Loading .txt file (train.txt)\n",
    "        txt_path = os.path.join (root_dir, f'{mode}.txt')\n",
    "        print(\"Text File:\", txt_path)\n",
    "        \n",
    "        self.data = pd.read_csv(\n",
    "            txt_path,\n",
    "            header = None,  # header = None means theres no header in the file\n",
    "            sep = \" \",  \n",
    "            names = [\"file_path\", \"class\"]\n",
    "        ) \n",
    "        \n",
    "        # Loading Dataset from Train Folder     \n",
    "        self.images_dir = os.path.join(root_dir, \"Train\")\n",
    "        ## Temp: Should Return \"E:\\Year 3 Sem 1\\COS30082 Applied Machine Learning\\Assignment 1\\Dataset\\Train\"\n",
    "    \n",
    "    # Return No. of Data Images\n",
    "    def __len__(self): # __len__ is a method with built-in len() function\n",
    "        print(\"Dataset Length:\", len(self.data))\n",
    "        return len(self.data)\n",
    "\n",
    "    \n",
    "    \n",
    "    # Return Init Configuration\n",
    "    def __repr__(self): \n",
    "        # __repr__ is a method to represent an object as a string. Images have x and y. Not using repr would result in the return of the memory location instead ( 0x10e104570)\n",
    "        # Can represent other things too from a memory location\n",
    "        \n",
    "        return \"BirdDataset: (mode='{}', image_size={})\".format(self.mode, self.image_size)\n",
    "\n",
    "    # Preparing the Images\n",
    "    def __getitem__(self,idx):\n",
    "        # Method automatically called, Allows class to behave like list or arrays\n",
    "        # Used to call and \"get\" datasets in the form of image and label\n",
    "        # Index 'idx'\n",
    "\n",
    "        # Image Path\n",
    "        img_path = os.path.join(self.images_dir, self.data.iloc[idx]['file_path'])\n",
    "        ## Temp: Should Return \"E:\\Year 3 Sem 1\\COS30082 Applied Machine Learning\\Assignment 1\\Dataset\\Train\" + \"Specific Image Location\"\n",
    "\n",
    "        # Load Image\n",
    "        img = Image.open(img_path)\n",
    "\n",
    "        # Transformation\n",
    "        transform = tv.transforms.Compose([\n",
    "            # Resize the Image\n",
    "            tv.transforms.Resize(self.image_size),\n",
    "\n",
    "            # Convert it to Tensor\n",
    "            tv.transforms.ToTensor(),\n",
    "\n",
    "            # Normalize it to the standard range (1, -1)\n",
    "            tv.transforms.Normalize((0.5, 0.5, 0.5), (0.5, 0.5, 0.5))\n",
    "\n",
    "            # C, H and W [Channel(Most common color channels), Height, Width]\n",
    "            # 1st tuple -> Mean for (R,G,B), 2nd tuple -> S.T.D for (R,G,B)\n",
    "        ])\n",
    "\n",
    "        # Processed Image    \n",
    "        x = transform(img)\n",
    "\n",
    "        # Get Class Label from Train.txt file\n",
    "        d = self.data.iloc[idx]['class']\n",
    "        \n",
    "        return x, d \n",
    "        \n",
    "    def number_of_classes(self):\n",
    "        return self.data['class'].max() + 1\n",
    "    # Max is used to find the largest class number (Classes are represented by numbers)\n",
    "    # Max + 1 because the index starts from 0 (To Compensate).\n",
    "        "
   ]
  },
  {
   "cell_type": "markdown",
   "id": "47b84e67-9dc6-4050-a435-ec55aded1880",
   "metadata": {},
   "source": [
    "### View Modified Dataset"
   ]
  },
  {
   "cell_type": "code",
   "execution_count": null,
   "id": "2241f672-4ce8-4a57-99c3-7cec893bac56",
   "metadata": {},
   "outputs": [],
   "source": []
  }
 ],
 "metadata": {
  "kernelspec": {
   "display_name": "Python 3 (ipykernel)",
   "language": "python",
   "name": "python3"
  },
  "language_info": {
   "codemirror_mode": {
    "name": "ipython",
    "version": 3
   },
   "file_extension": ".py",
   "mimetype": "text/x-python",
   "name": "python",
   "nbconvert_exporter": "python",
   "pygments_lexer": "ipython3",
   "version": "3.10.0"
  }
 },
 "nbformat": 4,
 "nbformat_minor": 5
}
